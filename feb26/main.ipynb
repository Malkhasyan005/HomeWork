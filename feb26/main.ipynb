{
 "cells": [
  {
   "cell_type": "markdown",
   "metadata": {},
   "source": [
    "Task 1: Basic Encapsulation with Getters and Setters\n",
    "\n",
    "Create a class named Person with the following:\n",
    "\n",
    "* A private field __name.\n",
    "* A public getter method get_name() that returns the name.\n",
    "* A public setter method set_name(new_name) that sets a new name.\n",
    "\n",
    "Requirements:\n",
    "\n",
    "* Prevent setting the name to an empty string.\n",
    "* Demonstrate usage by creating a Person object, setting the name, and printing it."
   ]
  },
  {
   "cell_type": "code",
   "execution_count": 18,
   "metadata": {},
   "outputs": [
    {
     "name": "stdout",
     "output_type": "stream",
     "text": [
      "Jack\n",
      "Alice\n"
     ]
    }
   ],
   "source": [
    "class Person:\n",
    "    def __init__(self, name: str):\n",
    "        self.set_name(name)\n",
    "\n",
    "    def get_name(self):\n",
    "        return self.__name\n",
    "    \n",
    "    def set_name(self, name: str):\n",
    "        if not name:\n",
    "            raise ValueError(\"Name cannot be empty!\")\n",
    "        self.__name = name\n",
    "        \n",
    "person = Person(\"Jack\")\n",
    "print(person.get_name())\n",
    "person.set_name(\"Alice\")\n",
    "print(person.get_name())\n"
   ]
  },
  {
   "cell_type": "markdown",
   "metadata": {},
   "source": [
    "Task 2: Using Python’s @property Decorators\n",
    "\n",
    "Refactor the Person class from Task 1 to:\n",
    "\n",
    "* Use the `@property` decorator for the getter.\n",
    "* Use the `@name.setter` decorator for the setter.\n",
    "\n",
    "Requirements:\n",
    "\n",
    "* Add validation to ensure the name length is at least 3 characters.\n"
   ]
  },
  {
   "cell_type": "code",
   "execution_count": 49,
   "metadata": {},
   "outputs": [
    {
     "name": "stdout",
     "output_type": "stream",
     "text": [
      "Jack\n",
      "Alice\n",
      "{'_Person__name': 'Alice'}\n"
     ]
    }
   ],
   "source": [
    "class Person:\n",
    "    def __init__(self, name: str):\n",
    "        self.__name = None\n",
    "        self.name = name\n",
    "\n",
    "    @property\n",
    "    def name(self):\n",
    "        return self.__name\n",
    "    \n",
    "    @name.setter\n",
    "    def name(self, name: str):\n",
    "        if not name or len(name) <= 3:\n",
    "            raise ValueError(\"Invalid name! Name must contain at least 3 characters! \")\n",
    "        self.__name = name\n",
    "        \n",
    "person = Person(\"Jack\")\n",
    "print(person.name)\n",
    "person.name = \"Alice\"\n",
    "print(person.name)\n",
    "print(person.__dict__)\n",
    "\n"
   ]
  },
  {
   "cell_type": "markdown",
   "metadata": {},
   "source": [
    "Task 3: Encapsulation in a Bank Account System\n",
    "\n",
    "Create a class `BankAccount` with:\n",
    "\n",
    "* A private field `__balance` initialized to 0.\n",
    "* A public getter method to check the balance.\n",
    "* A public setter method to deposit money (must be a positive number).\n",
    "* A method to withdraw money (cannot withdraw more than the balance).\n",
    "\n",
    "Challenge:\n",
    "\n",
    "* Prevent direct modification of __balance from outside the class.\n",
    "* Demonstrate by trying account.__balance = 10000 and show that it doesn’t work."
   ]
  },
  {
   "cell_type": "code",
   "execution_count": 37,
   "metadata": {},
   "outputs": [
    {
     "name": "stdout",
     "output_type": "stream",
     "text": [
      "0\n",
      "1000.0\n",
      "459.5\n"
     ]
    }
   ],
   "source": [
    "class BankAccount:\n",
    "    def __init__(self):\n",
    "        self.__balance = 0\n",
    "\n",
    "    def get_balance(self):\n",
    "        return self.__balance\n",
    "    \n",
    "    def deposit_balance(self, amount: float):\n",
    "        if amount < 0:\n",
    "            raise ValueError(\"Amount cannot be negative! \")\n",
    "        self.__balance += amount\n",
    "    \n",
    "    def withdraw(self, amount: float):\n",
    "        if amount > self.__balance:\n",
    "            raise ValueError(\"Not enough money in balance!\")\n",
    "        if amount < 0:\n",
    "            raise ValueError(\"Amount cannot be negative! \")\n",
    "        self.__balance -= amount\n",
    "        \n",
    "account = BankAccount()\n",
    "print(account.get_balance())\n",
    "account.deposit_balance(1000.0)\n",
    "print(account.get_balance())\n",
    "account.withdraw(540.5)\n",
    "print(account.get_balance())\n",
    "# print(account.__balance)\n",
    "# account.withdraw(500)\n",
    "\n"
   ]
  },
  {
   "cell_type": "markdown",
   "metadata": {},
   "source": [
    "Task 4: Advantages of Private Fields `(__field)`\n",
    "\n",
    "Create two classes:\n",
    "\n",
    "* `PublicData` with a public field `data`.\n",
    "* `PrivateData` with a private field `__data` and proper setters and getters.\n",
    "\n",
    "Requirements:\n",
    "\n",
    "* Show how `data` in `PublicData` can be easily changed to invalid values.\n",
    "* Show how `__data` in `PrivateData` prevents direct modifications.\n"
   ]
  },
  {
   "cell_type": "code",
   "execution_count": 38,
   "metadata": {},
   "outputs": [
    {
     "name": "stdout",
     "output_type": "stream",
     "text": [
      "{'_PrivateData__data': 0, '__data': 100}\n"
     ]
    }
   ],
   "source": [
    "class PublicData:\n",
    "    def __init__(self):\n",
    "        self.data = 0\n",
    "\n",
    "class PrivateData:\n",
    "    def __init__(self):\n",
    "        self.__data = 0\n",
    "\n",
    "data1 = PublicData()\n",
    "data2 = PrivateData()\n",
    "\n",
    "data1.data = 100 # changing initial data\n",
    "data2.__data = 100 # creating new __data which will be 100, but original __data will not change\n",
    "print(data2.__dict__) #  there are 2 state [_PrivateData__data': 0, '__data': 100]"
   ]
  },
  {
   "cell_type": "markdown",
   "metadata": {},
   "source": [
    "Task 5: Encapsulation for AI Model Parameters\n",
    "\n",
    "Create a class `AIModel` with:\n",
    "\n",
    "* A private field `__learning_rate`.\n",
    "* A getter and setter for `learning_rate`.\n",
    "\n",
    "Requirements:\n",
    "\n",
    "* Ensure `learning_rate` is between 0 and 1.\n",
    "* Demonstrate how encapsulation prevents setting an invalid learning rate.\n"
   ]
  },
  {
   "cell_type": "code",
   "execution_count": 43,
   "metadata": {},
   "outputs": [
    {
     "name": "stdout",
     "output_type": "stream",
     "text": [
      "0.98\n",
      "0.5\n"
     ]
    }
   ],
   "source": [
    "class AIModel:\n",
    "    def __init__(self, rate: float):\n",
    "        self.set_learning_rate(rate)\n",
    "\n",
    "    def get_learning_rate(self):\n",
    "        return self.__learning_rate\n",
    "\n",
    "    def set_learning_rate(self, rate: float):\n",
    "        if 0 > rate or rate > 1:\n",
    "            raise ValueError(\"Rate must be between 0 and 1 !\") \n",
    "        self.__learning_rate = rate\n",
    "\n",
    "model = AIModel(0.98)\n",
    "print(model.get_learning_rate())\n",
    "model.set_learning_rate(0.5)\n",
    "print(model.get_learning_rate())\n",
    "# model.set_learning_rate(5)\n",
    "    "
   ]
  },
  {
   "cell_type": "markdown",
   "metadata": {},
   "source": [
    "Task 7: Vector Implementation with Operator Overloading\n",
    "\n",
    "Implement a class named `Vector` that:\n",
    "\n",
    "* Encapsulates two private fields: `__x` and `__y` representing the vector components.\n",
    "* Provides getters and setters for `x` and `y` using the `@property` decorator.\n",
    "* Overloads the following operators:\n",
    "    - __+__ for vector addition.\n",
    "    - __-__ for vector subtraction.\n",
    "    - __*__ for scalar multiplication.\n",
    "    - __==__ for vector equality comparison.\n",
    "* Includes a __str__ method to print the vector in the form `\"Vector(x, y)\"`.\n",
    "\n",
    "Requirements:\n",
    "\n",
    "* Ensure that both __x__ and __y__ are numeric values in the setters.\n",
    "* Raise an error if the other operand in addition or subtraction is not a __Vector__.\n",
    "* Ensure scalar multiplication only works with numbers.\n"
   ]
  },
  {
   "cell_type": "code",
   "execution_count": 94,
   "metadata": {},
   "outputs": [],
   "source": [
    "class Vector:\n",
    "    def __init__(self, x: int, y: int):\n",
    "        self.__x = None\n",
    "        self.__y = None\n",
    "        self.x = x\n",
    "        self.y = y\n",
    "\n",
    "    @property\n",
    "    def x(self):\n",
    "        return self.__x\n",
    "    \n",
    "    @property\n",
    "    def y(self):\n",
    "        return self.__y\n",
    "    \n",
    "    @x.setter\n",
    "    def x(self, new_x: int):\n",
    "        if isinstance(new_x, int):\n",
    "            self.__x = new_x\n",
    "        else:\n",
    "            raise ValueError(\"Coordinates must be integer\")\n",
    "    \n",
    "    @y.setter\n",
    "    def y(self, new_y: int):\n",
    "        if isinstance(new_y, int):\n",
    "            self.__y = new_y\n",
    "        else:\n",
    "            raise ValueError(\"Coordinates must be integer\")\n",
    "\n",
    "    def __add__(self, other):\n",
    "        if isinstance(other, Vector):\n",
    "            new_obj = Vector(self.x + other.x, self.y + other.y)\n",
    "            return new_obj\n",
    "        raise ValueError(\"Cannot do addition with different types of objects (only Vector object)\")\n",
    "\n",
    "    def __sub__(self, other):\n",
    "        if isinstance(other, Vector):\n",
    "            new_obj = Vector(self.x - other.x, self.y - other.y)\n",
    "            return new_obj\n",
    "        raise ValueError(\"Cannot do subtraction with different types of objects (only Vector object)\")\n",
    "\n",
    "    def __mul__(self, other):\n",
    "        if isinstance(other, Vector):\n",
    "            new_obj = Vector(self.x * other.x, self.y * other.y)\n",
    "            return new_obj\n",
    "        elif isinstance(other, int):\n",
    "            new_obj = Vector(self.x * other, self.y * other)\n",
    "            return new_obj \n",
    "        raise ValueError(\"Cannot do multiplication with different types of objects (only Vector and int)\")\n",
    "\n",
    "\n",
    "    def __eq__(self, other):\n",
    "        if isinstance(other, Vector):\n",
    "            if self.x == other.x and self.y == other.y:\n",
    "                return True\n",
    "            return False\n",
    "        raise ValueError(\"Cannot compare Vector with other class! \")\n",
    "    \n",
    "    def __str__(self):\n",
    "        return f\"Vector{self.__x, self.__y}\""
   ]
  },
  {
   "cell_type": "code",
   "execution_count": 95,
   "metadata": {},
   "outputs": [
    {
     "name": "stdout",
     "output_type": "stream",
     "text": [
      "Vector(1, 5) Vector(2, 8) \n",
      "\n",
      "Vector(1, 5) + Vector(2, 8): Vector(3, 13)\n",
      "\n",
      "Vector(1, 5) - Vector(2, 8): Vector(-1, -3)\n",
      "\n",
      "Vector(1, 5) * Vector(2, 8): Vector(2, 40)\n",
      "\n",
      "Vector(1, 5) == Vector(2, 8): False\n",
      "\n",
      "Vector(2, 8) == Vector(2, 8): True\n",
      "\n",
      "Vector(2, 8) * 5: Vector(10, 40)\n",
      "\n"
     ]
    }
   ],
   "source": [
    "v1 = Vector(1,5)\n",
    "v2 = Vector(2,8)\n",
    "\n",
    "print(v1, v2, '\\n')\n",
    "\n",
    "print(f\"{v1} + {v2}: {v1 + v2}\\n\")\n",
    "print(f\"{v1} - {v2}: {v1 - v2}\\n\")\n",
    "print(f\"{v1} * {v2}: {v1 * v2}\\n\")\n",
    "\n",
    "print(f\"{v1} == {v2}: {v1 == v2}\\n\")\n",
    "\n",
    "v1 = Vector(2,8)\n",
    "print(f\"{v1} == {v2}: {v1 == v2}\\n\")\n",
    "\n",
    "print(f\"{v1} * 5: {v1 * 5}\\n\")\n",
    "\n",
    "# v3 = Vector(5, 'a')\n",
    "# v1 + 5\n",
    "# v1 - 5\n",
    "# v1 == 5\n"
   ]
  },
  {
   "cell_type": "markdown",
   "metadata": {},
   "source": [
    "Task 8: Library Book Management System (Encapsulation + Real-World Scenario)\n",
    "\n",
    "Create a class named Book with the following:\n",
    "\n",
    "* Private fields: `__title`, `__author`, `__isbn`, and `__copies`.\n",
    "* Getters and setters for all fields using `@property`.\n",
    "* Validation:\n",
    "    * `title`, `author`: Non-empty strings.\n",
    "    * `isbn`: 13-character string.\n",
    "    * `copies`: Non-negative integer.\n",
    "* A method `borrow_book()` that decreases `__copies` if available.\n",
    "* A method `return_book()` that increases `__copies`.\n"
   ]
  },
  {
   "cell_type": "code",
   "execution_count": 96,
   "metadata": {},
   "outputs": [],
   "source": [
    "class Book:\n",
    "    def __init__(self, title: str, author: str, isbn: str, copies: int):\n",
    "        self.__title = None\n",
    "        self.__author = None\n",
    "        self.__isbn = None\n",
    "        self.__copies = 1\n",
    "        \n",
    "        self.title = title\n",
    "        self.author = author\n",
    "        self.isbn = isbn\n",
    "        self.copies = copies\n",
    "\n",
    "    @property\n",
    "    def title(self: str):\n",
    "        return self.__title\n",
    "    \n",
    "    @property\n",
    "    def author(self: str):\n",
    "        return self.__author\n",
    "    \n",
    "    @property\n",
    "    def isbn(self:str):\n",
    "        return self.__isbn\n",
    "    \n",
    "    @property\n",
    "    def copies(self: int):\n",
    "        return self.__copies\n",
    "    \n",
    "    @title.setter\n",
    "    def title(self, new_title: str):\n",
    "        if not new_title:\n",
    "            raise ValueError(\"Title cannot be empty! \")\n",
    "        self.__title = new_title\n",
    "    \n",
    "    @author.setter\n",
    "    def author(self, author_name: str):\n",
    "        if not author_name:\n",
    "            raise ValueError(\"Author cannot be empty! \")\n",
    "        self.__author = author_name\n",
    "        \n",
    "    @isbn.setter\n",
    "    def isbn(self, new_isbn: str):\n",
    "        if len(new_isbn) != 13:\n",
    "            raise ValueError(\"ISBN must be exactly 13 characters! \")\n",
    "        self.__isbn = new_isbn\n",
    "\n",
    "    @copies.setter\n",
    "    def copies(self, copy_cnt: int):\n",
    "        if copy_cnt < 0:\n",
    "            raise ValueError(\"Copies cannot be negative! \")\n",
    "        self.__copies = copy_cnt\n",
    "        \n",
    "    def borrow_book(self):\n",
    "        if self.__copies: self.__copies -= 1\n",
    "        else: print(\"Not available book\")\n",
    "\n",
    "    def return_book(self):\n",
    "        self.__copies += 1\n",
    "\n",
    "    def __str__(self):\n",
    "        return f\"Book title : {self.__title}\\nBook author: {self.__author}\\nBook ISBN: {self.__isbn}\\nBook copies: {self.__copies}\\n\""
   ]
  },
  {
   "cell_type": "code",
   "execution_count": 97,
   "metadata": {},
   "outputs": [
    {
     "name": "stdout",
     "output_type": "stream",
     "text": [
      "Book title : The Great Gatsby\n",
      "Book author: F. Scott Fitzgerald\n",
      "Book ISBN: 1234567890123\n",
      "Book copies: 3\n",
      "\n",
      "Copies after borrowing: 1\n",
      "\n",
      "Copies after returning: 2\n",
      "\n",
      "Not available book\n"
     ]
    }
   ],
   "source": [
    "book1 = Book(\"The Great Gatsby\", \"F. Scott Fitzgerald\", \"1234567890123\", 3)\n",
    "    \n",
    "print(book1)\n",
    "\n",
    "book1.borrow_book()\n",
    "book1.borrow_book()\n",
    "\n",
    "print(f\"Copies after borrowing: {book1.copies}\\n\")\n",
    "\n",
    "book1.return_book()\n",
    "\n",
    "print(f\"Copies after returning: {book1.copies}\\n\")\n",
    "\n",
    "book1.borrow_book()\n",
    "book1.borrow_book()\n",
    "\n",
    "book1.borrow_book()"
   ]
  }
 ],
 "metadata": {
  "kernelspec": {
   "display_name": "Python 3",
   "language": "python",
   "name": "python3"
  },
  "language_info": {
   "codemirror_mode": {
    "name": "ipython",
    "version": 3
   },
   "file_extension": ".py",
   "mimetype": "text/x-python",
   "name": "python",
   "nbconvert_exporter": "python",
   "pygments_lexer": "ipython3",
   "version": "3.10.12"
  }
 },
 "nbformat": 4,
 "nbformat_minor": 2
}
