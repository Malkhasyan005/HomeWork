{
 "cells": [
  {
   "cell_type": "markdown",
   "metadata": {},
   "source": [
    "Task 1:  Building a Simple AI Model Class"
   ]
  },
  {
   "cell_type": "code",
   "execution_count": 11,
   "metadata": {},
   "outputs": [
    {
     "name": "stdout",
     "output_type": "stream",
     "text": [
      "Model name: ImageClassifier, Accuracy: 78.50, Framework: TensorFlow\n"
     ]
    }
   ],
   "source": [
    "class AIModel:\n",
    "    framework = 'TensorFlow'\n",
    "    def __init__(self, model_name, accuracy):\n",
    "        self.model_name = model_name\n",
    "        self.accuracy = accuracy\n",
    "\n",
    "    def display_info(self):\n",
    "        print(f\"Model name: {self.model_name}, Accuracy: {self.accuracy:.2f}, Framework: {AIModel.framework}\")\n",
    "\n",
    "model = AIModel(\"ImageClassifier\", 78.5)\n",
    "\n",
    "model.display_info()"
   ]
  },
  {
   "cell_type": "markdown",
   "metadata": {},
   "source": [
    "Task 2: Data Preprocessor Class with __str__ Method"
   ]
  },
  {
   "cell_type": "code",
   "execution_count": 12,
   "metadata": {},
   "outputs": [
    {
     "name": "stdout",
     "output_type": "stream",
     "text": [
      "Preprocessor using Normalization on 20 features\n"
     ]
    }
   ],
   "source": [
    "class DataPreprocessor:\n",
    "    def __init__(self, method, feature_count):\n",
    "        self.method = method\n",
    "        self.feature_count = feature_count\n",
    "    \n",
    "    def __str__(self):\n",
    "        return f\"Preprocessor using {self.method} on {self.feature_count} features\"\n",
    "    \n",
    "\n",
    "model = DataPreprocessor(\"Normalization\", 20)\n",
    "print(model)"
   ]
  },
  {
   "cell_type": "markdown",
   "metadata": {},
   "source": [
    "Task 3: AI Pipeline with Class Attributes and Instance Attributes"
   ]
  },
  {
   "cell_type": "code",
   "execution_count": 13,
   "metadata": {},
   "outputs": [
    {
     "name": "stdout",
     "output_type": "stream",
     "text": [
      "Pipeline name: Image Processing\n",
      "Pipeline steps: ['cleaning', 'training', 'evaluation']\n"
     ]
    }
   ],
   "source": [
    "class AIPipeline:\n",
    "    pipline_count = 0\n",
    "    \n",
    "    def __init__(self, name, steps):\n",
    "        self.name = name\n",
    "        self.steps = steps\n",
    "        AIPipeline.pipline_count += 1\n",
    "\n",
    "    def __str__(self):\n",
    "        return f\"Pipeline name: {self.name}\\nPipeline steps: {self.steps}\"\n",
    "    \n",
    "pipeline = AIPipeline(\"Image Processing\", [\"cleaning\", \"training\", \"evaluation\"])\n",
    "\n",
    "print(pipeline)    \n"
   ]
  },
  {
   "cell_type": "markdown",
   "metadata": {},
   "source": [
    "Task 4: Model Evaluation with Default Values in __init__"
   ]
  },
  {
   "cell_type": "code",
   "execution_count": 14,
   "metadata": {},
   "outputs": [
    {
     "name": "stdout",
     "output_type": "stream",
     "text": [
      "Evaluating ImageClassifier using accuracy\n",
      "Evaluating TextClassifier using precision, recall\n"
     ]
    }
   ],
   "source": [
    "class ModelEvaluator:\n",
    "    def __init__(self, model_name, metrics = [\"accuracy\"]):\n",
    "        self.model_name = model_name\n",
    "        self.metrics = metrics\n",
    "\n",
    "    def evaluate(self):\n",
    "        return f\"Evaluating {self.model_name} using {', '.join(self.metrics)}\"\n",
    "    \n",
    "evaluator1 = ModelEvaluator(\"ImageClassifier\")\n",
    "evaluator2 = ModelEvaluator(\"TextClassifier\", [\"precision\", \"recall\"])\n",
    "\n",
    "print(evaluator1.evaluate())\n",
    "print(evaluator2.evaluate())  \n"
   ]
  },
  {
   "cell_type": "markdown",
   "metadata": {},
   "source": [
    "Task 5: AI Dataset Class with Both Class and Instance Attributes\n"
   ]
  },
  {
   "cell_type": "code",
   "execution_count": 15,
   "metadata": {},
   "outputs": [
    {
     "name": "stdout",
     "output_type": "stream",
     "text": [
      "Dataset: Titanic, Samples: 891, Format: CSV\n"
     ]
    }
   ],
   "source": [
    "class AIDataset:\n",
    "    data_format = \"CSV\"\n",
    "\n",
    "    def __init__(self, dataset_name, sample_count):\n",
    "        self.dataset_name = dataset_name\n",
    "        self.sample_count = sample_count\n",
    "    \n",
    "    def __str__(self):\n",
    "        return f\"Dataset: {self.dataset_name}, Samples: {self.sample_count}, Format: {AIDataset.data_format}\"\n",
    "    \n",
    "dataset = AIDataset(\"Titanic\", 891)\n",
    "print(dataset)\n"
   ]
  }
 ],
 "metadata": {
  "kernelspec": {
   "display_name": "Python 3",
   "language": "python",
   "name": "python3"
  },
  "language_info": {
   "codemirror_mode": {
    "name": "ipython",
    "version": 3
   },
   "file_extension": ".py",
   "mimetype": "text/x-python",
   "name": "python",
   "nbconvert_exporter": "python",
   "pygments_lexer": "ipython3",
   "version": "3.10.12"
  }
 },
 "nbformat": 4,
 "nbformat_minor": 2
}
