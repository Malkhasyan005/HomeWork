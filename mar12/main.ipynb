{
 "cells": [
  {
   "cell_type": "markdown",
   "metadata": {},
   "source": [
    "# Abstract Class Tasks"
   ]
  },
  {
   "cell_type": "code",
   "execution_count": 2,
   "metadata": {},
   "outputs": [],
   "source": [
    "from abc import ABC, abstractmethod\n",
    "import numpy as np\n",
    "import datetime\n",
    "import json"
   ]
  },
  {
   "cell_type": "markdown",
   "metadata": {},
   "source": [
    "<h3>Task 1<h3>\n",
    "<p>Basic Abstract Class<p>"
   ]
  },
  {
   "cell_type": "code",
   "execution_count": 3,
   "metadata": {},
   "outputs": [],
   "source": [
    "class Shape(ABC):\n",
    "    @abstractmethod\n",
    "    def area(self):\n",
    "        ...\n",
    "\n",
    "class Circle(Shape):\n",
    "    def __init__(self, radius):\n",
    "        self.radius = radius\n",
    "    \n",
    "    def area(self):\n",
    "        return np.pi * self.radius**2"
   ]
  },
  {
   "cell_type": "markdown",
   "metadata": {},
   "source": [
    "<h3>Task 2<h3>\n",
    "<p>Multiple Abstract Methods<p>"
   ]
  },
  {
   "cell_type": "code",
   "execution_count": 4,
   "metadata": {},
   "outputs": [],
   "source": [
    "class Animal(ABC):\n",
    "    @abstractmethod\n",
    "    def speak(self):\n",
    "        ...\n",
    "    \n",
    "    @abstractmethod\n",
    "    def move(self):\n",
    "        ...\n",
    "\n",
    "class Dog(Animal):\n",
    "    def speak(self):\n",
    "        return \"Woof!\"\n",
    "    \n",
    "    def move(self):\n",
    "        return \"Running on four legs\""
   ]
  },
  {
   "cell_type": "code",
   "execution_count": 5,
   "metadata": {},
   "outputs": [
    {
     "name": "stdout",
     "output_type": "stream",
     "text": [
      "Dog speaks: Woof!\n",
      "Dog moves: Running on four legs\n"
     ]
    }
   ],
   "source": [
    "dog = Dog()\n",
    "print(\"Dog speaks:\", dog.speak())\n",
    "print(\"Dog moves:\", dog.move())\n"
   ]
  },
  {
   "cell_type": "markdown",
   "metadata": {},
   "source": [
    "<h3>Task 3<h3>\n",
    "<p>Concrete Method in Abstract Class<p>"
   ]
  },
  {
   "cell_type": "code",
   "execution_count": 6,
   "metadata": {},
   "outputs": [],
   "source": [
    "class Shape(ABC):\n",
    "    @abstractmethod\n",
    "    def area(self):\n",
    "        ...\n",
    "\n",
    "    def decsription(self):\n",
    "        return \"This is a shape\"\n",
    "    \n",
    "class Square(Shape):\n",
    "    def __init__(self, side):\n",
    "        self.side = side\n",
    "    \n",
    "    def area(self):\n",
    "        return self.side**2"
   ]
  },
  {
   "cell_type": "code",
   "execution_count": 7,
   "metadata": {},
   "outputs": [
    {
     "name": "stdout",
     "output_type": "stream",
     "text": [
      "4\n",
      "This is a shape\n"
     ]
    }
   ],
   "source": [
    "sq = Square(2)\n",
    "print(sq.area())\n",
    "print(sq.decsription())"
   ]
  },
  {
   "cell_type": "markdown",
   "metadata": {},
   "source": [
    "<h3>Task 4<h3>\n",
    "<p>Abstract Property<p>"
   ]
  },
  {
   "cell_type": "code",
   "execution_count": 8,
   "metadata": {},
   "outputs": [],
   "source": [
    "class Person(ABC):\n",
    "    @property\n",
    "    @abstractmethod\n",
    "    def age(self):\n",
    "        ...\n",
    "\n",
    "class Student(Person):\n",
    "    def __init__(self, birth_year):\n",
    "        self.birth_year = birth_year\n",
    "    \n",
    "    @property\n",
    "    def age(self):\n",
    "        return datetime.datetime.now().year - self.birth_year"
   ]
  },
  {
   "cell_type": "code",
   "execution_count": 9,
   "metadata": {},
   "outputs": [
    {
     "name": "stdout",
     "output_type": "stream",
     "text": [
      "Student age: 25\n"
     ]
    }
   ],
   "source": [
    "student = Student(2000)\n",
    "print(\"Student age:\", student.age)"
   ]
  },
  {
   "cell_type": "markdown",
   "metadata": {},
   "source": [
    "<h3>Task 5<h3>\n",
    "<p>Inheritance Hierarchy<p>"
   ]
  },
  {
   "cell_type": "code",
   "execution_count": 10,
   "metadata": {},
   "outputs": [],
   "source": [
    "class Vehicle(ABC):\n",
    "    @abstractmethod\n",
    "    def start_engine(self):\n",
    "        ...\n",
    "\n",
    "class Car(Vehicle):\n",
    "    @abstractmethod\n",
    "    def honk(self):\n",
    "        ...\n",
    "\n",
    "class Sedan(Car):\n",
    "    def start_engine(self):\n",
    "        return \"Engine started\"\n",
    "    \n",
    "    def honk(self):\n",
    "        return \"Honking\""
   ]
  },
  {
   "cell_type": "code",
   "execution_count": 11,
   "metadata": {},
   "outputs": [
    {
     "name": "stdout",
     "output_type": "stream",
     "text": [
      "Sedan: Engine started\n",
      "Sedan honk: Honking\n"
     ]
    }
   ],
   "source": [
    "sedan = Sedan()\n",
    "print(\"Sedan:\", sedan.start_engine())\n",
    "print(\"Sedan honk:\", sedan.honk())"
   ]
  },
  {
   "cell_type": "markdown",
   "metadata": {},
   "source": [
    "<h3>Task 6<h3>\n",
    "<p>Mixin with Abstract Methods<p>"
   ]
  },
  {
   "cell_type": "code",
   "execution_count": 12,
   "metadata": {},
   "outputs": [],
   "source": [
    "class Serializable(ABC):\n",
    "    @abstractmethod\n",
    "    def serialize(self):\n",
    "        ...\n",
    "\n",
    "class User(Serializable):\n",
    "    def __init__(self, name, user_id):\n",
    "        self.name = name\n",
    "        self.user_id = user_id\n",
    "\n",
    "    def serialize(self):\n",
    "        return json.dumps({\"name\": self.name, \"user_id\": self.user_id})"
   ]
  },
  {
   "cell_type": "code",
   "execution_count": 13,
   "metadata": {},
   "outputs": [
    {
     "name": "stdout",
     "output_type": "stream",
     "text": [
      "User serialized: {\"name\": \"Alice\", \"user_id\": 123}\n"
     ]
    }
   ],
   "source": [
    "user = User(\"Alice\", 123)\n",
    "print(\"User serialized:\", user.serialize())\n",
    "\n",
    "with open(\"data.json\", \"w\") as f:\n",
    "    f.write(user.serialize())"
   ]
  },
  {
   "cell_type": "markdown",
   "metadata": {},
   "source": [
    "<h3>Task 7<h3>\n",
    "<p>Override Concrete Method<p>"
   ]
  },
  {
   "cell_type": "code",
   "execution_count": 14,
   "metadata": {},
   "outputs": [],
   "source": [
    "class Shape(ABC):\n",
    "    @abstractmethod\n",
    "    def area(self):\n",
    "        ...\n",
    "\n",
    "    def description(self):\n",
    "        return \"This is a shape\"\n",
    "    \n",
    "    def color(self):\n",
    "        return \"red\"\n",
    "    \n",
    "class BlueSquare(Square):\n",
    "    def __init__(self, side_length):\n",
    "        self.side_length = side_length\n",
    "    \n",
    "    def area(self):\n",
    "        return self.side_length ** 2\n",
    "    \n",
    "    def color(self):\n",
    "        return \"blue\""
   ]
  },
  {
   "cell_type": "code",
   "execution_count": 15,
   "metadata": {},
   "outputs": [
    {
     "name": "stdout",
     "output_type": "stream",
     "text": [
      "Area of BlueSquare: 16\n",
      "BlueSquare description: This is a shape\n",
      "BlueSquare color: blue\n"
     ]
    }
   ],
   "source": [
    "blue_square = BlueSquare(4)\n",
    "print(\"Area of BlueSquare:\", blue_square.area())\n",
    "print(\"BlueSquare description:\", blue_square.decsription())\n",
    "print(\"BlueSquare color:\", blue_square.color())"
   ]
  },
  {
   "cell_type": "markdown",
   "metadata": {},
   "source": [
    "<h3>Task 8<h3>\n",
    "<p>Abstract Class Instantiation Error<p>"
   ]
  },
  {
   "cell_type": "code",
   "execution_count": 16,
   "metadata": {},
   "outputs": [],
   "source": [
    "class Animal(ABC):\n",
    "    @abstractmethod\n",
    "    def speak(self):\n",
    "        ..."
   ]
  },
  {
   "cell_type": "code",
   "execution_count": 17,
   "metadata": {},
   "outputs": [
    {
     "ename": "TypeError",
     "evalue": "Can't instantiate abstract class Animal with abstract method speak",
     "output_type": "error",
     "traceback": [
      "\u001b[0;31m---------------------------------------------------------------------------\u001b[0m",
      "\u001b[0;31mTypeError\u001b[0m                                 Traceback (most recent call last)",
      "Cell \u001b[0;32mIn[17], line 1\u001b[0m\n\u001b[0;32m----> 1\u001b[0m animal \u001b[38;5;241m=\u001b[39m \u001b[43mAnimal\u001b[49m\u001b[43m(\u001b[49m\u001b[43m)\u001b[49m\n",
      "\u001b[0;31mTypeError\u001b[0m: Can't instantiate abstract class Animal with abstract method speak"
     ]
    }
   ],
   "source": [
    "animal = Animal()"
   ]
  },
  {
   "cell_type": "markdown",
   "metadata": {},
   "source": [
    "<h3>Task 9<h3> \n",
    "<p>Combining Multiple Abstract Classes<p>"
   ]
  },
  {
   "cell_type": "code",
   "execution_count": 18,
   "metadata": {},
   "outputs": [],
   "source": [
    "class Loger(ABC):\n",
    "    @abstractmethod\n",
    "    def log(self, message):\n",
    "        ...\n",
    "\n",
    "class Authinticator(ABC):\n",
    "    @abstractmethod\n",
    "    def authenticate(self):\n",
    "        ...\n",
    "\n",
    "class DatabaseConnector(Loger, Authinticator):\n",
    "    def log(self, message):\n",
    "        print(f\"Log: {message}\")\n",
    "\n",
    "    def authenticate(self, username, password):\n",
    "        if username == \"admin\" and password == \"admin\":\n",
    "            return True\n",
    "        else:\n",
    "            print(\"Authentication failed\")\n",
    "            return False"
   ]
  },
  {
   "cell_type": "code",
   "execution_count": 19,
   "metadata": {},
   "outputs": [
    {
     "name": "stdout",
     "output_type": "stream",
     "text": [
      "Log: Database connection established.\n",
      "Log: User authenticated successfully.\n"
     ]
    }
   ],
   "source": [
    "db = DatabaseConnector()\n",
    "\n",
    "db.log(\"Database connection established.\")\n",
    "\n",
    "if db.authenticate(\"admin\", \"admin\"):\n",
    "    db.log(\"User authenticated successfully.\")\n",
    "else:\n",
    "    db.log(\"User authentication failed.\")"
   ]
  },
  {
   "cell_type": "markdown",
   "metadata": {},
   "source": [
    "<h3>Task 10<h3>\n",
    "<p>Real-World Use Case<p>"
   ]
  },
  {
   "cell_type": "code",
   "execution_count": 20,
   "metadata": {},
   "outputs": [],
   "source": [
    "class PaymentGateway(ABC):\n",
    "    @abstractmethod\n",
    "    def process_payment(self, amount):\n",
    "        ...\n",
    "    \n",
    "    @abstractmethod\n",
    "    def refund(self, transaction_id):\n",
    "        ...\n",
    "\n",
    "class PayPalGateway(PaymentGateway):\n",
    "    def process_payment(self, amount):\n",
    "        print(f\"Paid ${amount} via PayPal.\")\n",
    "\n",
    "    def refund(self, transaction_id):\n",
    "        print(f\"Refunded transaction {transaction_id} via PayPal.\")\n",
    "\n",
    "class StripeGateway(PaymentGateway):\n",
    "    def process_payment(self, amount):\n",
    "        print(f\"Paid ${amount} via Stripe.\")\n",
    "\n",
    "    def refund(self, transaction_id):\n",
    "        print(f\"Refunded transaction {transaction_id} via Stripe.\")"
   ]
  },
  {
   "cell_type": "code",
   "execution_count": 21,
   "metadata": {},
   "outputs": [
    {
     "name": "stdout",
     "output_type": "stream",
     "text": [
      "Paid $200.0 via PayPal.\n",
      "Refunded transaction TX12345 via PayPal.\n",
      "Paid $100.0 via Stripe.\n",
      "Refunded transaction TX15456 via Stripe.\n"
     ]
    }
   ],
   "source": [
    "paypal_gateway = PayPalGateway()\n",
    "paypal_gateway.process_payment(200.0)\n",
    "paypal_gateway.refund(\"TX12345\")\n",
    "\n",
    "stripe_gateway = StripeGateway()\n",
    "stripe_gateway.process_payment(100.0)\n",
    "stripe_gateway.refund(\"TX15456\")"
   ]
  },
  {
   "cell_type": "markdown",
   "metadata": {},
   "source": [
    "# Interface Tasks\n"
   ]
  },
  {
   "cell_type": "markdown",
   "metadata": {},
   "source": [
    "<h3>Task 1<h3>\n",
    "<p>Basic Interface<p>"
   ]
  },
  {
   "cell_type": "code",
   "execution_count": 22,
   "metadata": {},
   "outputs": [],
   "source": [
    "class IWriter(ABC):\n",
    "    @abstractmethod\n",
    "    def write(self, data):\n",
    "        ...\n",
    "\n",
    "class FileWriter(IWriter):\n",
    "    def __init__(self, filename):\n",
    "        self.filename = filename\n",
    "\n",
    "    def write(self, data):\n",
    "        with open(self.filename, 'w') as fs:\n",
    "            fs.write(data)"
   ]
  },
  {
   "cell_type": "code",
   "execution_count": 23,
   "metadata": {},
   "outputs": [],
   "source": [
    "file_writer = FileWriter(\"output.txt\")\n",
    "file_writer.write(\"This is some sample data.\")"
   ]
  },
  {
   "cell_type": "markdown",
   "metadata": {},
   "source": [
    "<h3>Task 2<h3> <p>Multiple Interfaces<p>"
   ]
  },
  {
   "cell_type": "code",
   "execution_count": 24,
   "metadata": {},
   "outputs": [],
   "source": [
    "class IReadable(ABC):\n",
    "    @abstractmethod\n",
    "    def read(self):\n",
    "        ...\n",
    "\n",
    "class IWritable(ABC):\n",
    "    @abstractmethod\n",
    "    def write(self, data):\n",
    "        ...\n",
    "\n",
    "class DiskStorage(IReadable, IWritable):\n",
    "    def __init__(self, filename):\n",
    "        self.filename = filename\n",
    "    \n",
    "    def read(self):\n",
    "        try:\n",
    "            with open(self.filename, 'r') as fs:\n",
    "                return fs.read()\n",
    "        except FileNotFoundError:\n",
    "            raise FileNotFoundError(\"File not found\")\n",
    "        \n",
    "    def write(self, data):\n",
    "        with open(self.filename, 'w') as fs:\n",
    "            fs.write(data)"
   ]
  },
  {
   "cell_type": "code",
   "execution_count": 25,
   "metadata": {},
   "outputs": [
    {
     "name": "stdout",
     "output_type": "stream",
     "text": [
      "This is some sample data.\n",
      "Example data\n"
     ]
    },
    {
     "ename": "FileNotFoundError",
     "evalue": "File not found",
     "output_type": "error",
     "traceback": [
      "\u001b[0;31m---------------------------------------------------------------------------\u001b[0m",
      "\u001b[0;31mFileNotFoundError\u001b[0m                         Traceback (most recent call last)",
      "Cell \u001b[0;32mIn[24], line 17\u001b[0m, in \u001b[0;36mDiskStorage.read\u001b[0;34m(self)\u001b[0m\n\u001b[1;32m     16\u001b[0m \u001b[38;5;28;01mtry\u001b[39;00m:\n\u001b[0;32m---> 17\u001b[0m     \u001b[38;5;28;01mwith\u001b[39;00m \u001b[38;5;28;43mopen\u001b[39;49m\u001b[43m(\u001b[49m\u001b[38;5;28;43mself\u001b[39;49m\u001b[38;5;241;43m.\u001b[39;49m\u001b[43mfilename\u001b[49m\u001b[43m,\u001b[49m\u001b[43m \u001b[49m\u001b[38;5;124;43m'\u001b[39;49m\u001b[38;5;124;43mr\u001b[39;49m\u001b[38;5;124;43m'\u001b[39;49m\u001b[43m)\u001b[49m \u001b[38;5;28;01mas\u001b[39;00m fs:\n\u001b[1;32m     18\u001b[0m         \u001b[38;5;28;01mreturn\u001b[39;00m fs\u001b[38;5;241m.\u001b[39mread()\n",
      "File \u001b[0;32m~/.local/lib/python3.10/site-packages/IPython/core/interactiveshell.py:324\u001b[0m, in \u001b[0;36m_modified_open\u001b[0;34m(file, *args, **kwargs)\u001b[0m\n\u001b[1;32m    318\u001b[0m     \u001b[38;5;28;01mraise\u001b[39;00m \u001b[38;5;167;01mValueError\u001b[39;00m(\n\u001b[1;32m    319\u001b[0m         \u001b[38;5;124mf\u001b[39m\u001b[38;5;124m\"\u001b[39m\u001b[38;5;124mIPython won\u001b[39m\u001b[38;5;124m'\u001b[39m\u001b[38;5;124mt let you open fd=\u001b[39m\u001b[38;5;132;01m{\u001b[39;00mfile\u001b[38;5;132;01m}\u001b[39;00m\u001b[38;5;124m by default \u001b[39m\u001b[38;5;124m\"\u001b[39m\n\u001b[1;32m    320\u001b[0m         \u001b[38;5;124m\"\u001b[39m\u001b[38;5;124mas it is likely to crash IPython. If you know what you are doing, \u001b[39m\u001b[38;5;124m\"\u001b[39m\n\u001b[1;32m    321\u001b[0m         \u001b[38;5;124m\"\u001b[39m\u001b[38;5;124myou can use builtins\u001b[39m\u001b[38;5;124m'\u001b[39m\u001b[38;5;124m open.\u001b[39m\u001b[38;5;124m\"\u001b[39m\n\u001b[1;32m    322\u001b[0m     )\n\u001b[0;32m--> 324\u001b[0m \u001b[38;5;28;01mreturn\u001b[39;00m \u001b[43mio_open\u001b[49m\u001b[43m(\u001b[49m\u001b[43mfile\u001b[49m\u001b[43m,\u001b[49m\u001b[43m \u001b[49m\u001b[38;5;241;43m*\u001b[39;49m\u001b[43margs\u001b[49m\u001b[43m,\u001b[49m\u001b[43m \u001b[49m\u001b[38;5;241;43m*\u001b[39;49m\u001b[38;5;241;43m*\u001b[39;49m\u001b[43mkwargs\u001b[49m\u001b[43m)\u001b[49m\n",
      "\u001b[0;31mFileNotFoundError\u001b[0m: [Errno 2] No such file or directory: 'data.txt'",
      "\nDuring handling of the above exception, another exception occurred:\n",
      "\u001b[0;31mFileNotFoundError\u001b[0m                         Traceback (most recent call last)",
      "Cell \u001b[0;32mIn[25], line 9\u001b[0m\n\u001b[1;32m      6\u001b[0m \u001b[38;5;28mprint\u001b[39m(storage2\u001b[38;5;241m.\u001b[39mread())\n\u001b[1;32m      8\u001b[0m storage3 \u001b[38;5;241m=\u001b[39m DiskStorage(\u001b[38;5;124m\"\u001b[39m\u001b[38;5;124mdata.txt\u001b[39m\u001b[38;5;124m\"\u001b[39m)\n\u001b[0;32m----> 9\u001b[0m \u001b[43mstorage3\u001b[49m\u001b[38;5;241;43m.\u001b[39;49m\u001b[43mread\u001b[49m\u001b[43m(\u001b[49m\u001b[43m)\u001b[49m\n",
      "Cell \u001b[0;32mIn[24], line 20\u001b[0m, in \u001b[0;36mDiskStorage.read\u001b[0;34m(self)\u001b[0m\n\u001b[1;32m     18\u001b[0m         \u001b[38;5;28;01mreturn\u001b[39;00m fs\u001b[38;5;241m.\u001b[39mread()\n\u001b[1;32m     19\u001b[0m \u001b[38;5;28;01mexcept\u001b[39;00m \u001b[38;5;167;01mFileNotFoundError\u001b[39;00m:\n\u001b[0;32m---> 20\u001b[0m     \u001b[38;5;28;01mraise\u001b[39;00m \u001b[38;5;167;01mFileNotFoundError\u001b[39;00m(\u001b[38;5;124m\"\u001b[39m\u001b[38;5;124mFile not found\u001b[39m\u001b[38;5;124m\"\u001b[39m)\n",
      "\u001b[0;31mFileNotFoundError\u001b[0m: File not found"
     ]
    }
   ],
   "source": [
    "storage = DiskStorage(\"output.txt\")\n",
    "print(storage.read())\n",
    "\n",
    "storage2 = DiskStorage(\"example.txt\")\n",
    "storage2.write(\"Example data\")\n",
    "print(storage2.read())\n",
    "\n",
    "storage3 = DiskStorage(\"data.txt\")\n",
    "storage3.read()"
   ]
  },
  {
   "cell_type": "markdown",
   "metadata": {},
   "source": [
    "<h3>Task 3<h3> <p>Enforce Method Implementation<p>"
   ]
  },
  {
   "cell_type": "code",
   "execution_count": 26,
   "metadata": {},
   "outputs": [],
   "source": [
    "class ICalculator(ABC):\n",
    "    @abstractmethod\n",
    "    def add(self, a, b):\n",
    "        ...\n",
    "\n",
    "    @abstractmethod\n",
    "    def subtract(self, a, b):\n",
    "        ...\n",
    "        \n",
    "class BasicCalculator(ICalculator):\n",
    "    def add(self, a, b):\n",
    "        return a + b\n",
    "\n",
    "    def subtract(self, a, b):\n",
    "        return a - b"
   ]
  },
  {
   "cell_type": "code",
   "execution_count": 27,
   "metadata": {},
   "outputs": [
    {
     "name": "stdout",
     "output_type": "stream",
     "text": [
      "10 + 5 = 15\n",
      "10 - 5 = 5\n"
     ]
    }
   ],
   "source": [
    "calculator = BasicCalculator()\n",
    "\n",
    "sm = calculator.add(10, 5)\n",
    "print(f\"10 + 5 = {sm}\")\n",
    "\n",
    "sub = calculator.subtract(10, 5)\n",
    "print(f\"10 - 5 = {sub}\")"
   ]
  },
  {
   "cell_type": "markdown",
   "metadata": {},
   "source": [
    "<h3>Task 4<h3> <p>Interface Inheritance<p>"
   ]
  },
  {
   "cell_type": "code",
   "execution_count": 28,
   "metadata": {},
   "outputs": [],
   "source": [
    "class IShape(ABC):\n",
    "    @abstractmethod\n",
    "    def area(self):\n",
    "        ...\n",
    "\n",
    "class IColorfulShape(IShape):\n",
    "    @abstractmethod\n",
    "    def set_color(self, color):\n",
    "        ...\n",
    "\n",
    "class ColoredCircle(IColorfulShape):\n",
    "    def __init__(self, radius):\n",
    "        self.radius = radius\n",
    "\n",
    "    def area(self):\n",
    "        return np.pi * self.radius ** 2\n",
    "    \n",
    "    def set_color(self, color):\n",
    "        self.color = color\n",
    "        print(f\"Circle color set to {self.color}\")\n"
   ]
  },
  {
   "cell_type": "code",
   "execution_count": 29,
   "metadata": {},
   "outputs": [
    {
     "name": "stdout",
     "output_type": "stream",
     "text": [
      "Circle color set to Red\n",
      "Area of the circle: 78.53981633974483\n"
     ]
    }
   ],
   "source": [
    "circle = ColoredCircle(5)\n",
    "\n",
    "circle.set_color(\"Red\")\n",
    "\n",
    "print(f\"Area of the circle: {circle.area()}\")"
   ]
  },
  {
   "cell_type": "markdown",
   "metadata": {},
   "source": [
    "<h3>Task 5<h3> <p>Interface + Abstract Class<p>"
   ]
  },
  {
   "cell_type": "code",
   "execution_count": 30,
   "metadata": {},
   "outputs": [],
   "source": [
    "class ILoggable(ABC):\n",
    "    @abstractmethod\n",
    "    def log(self, message):\n",
    "        ...\n",
    "\n",
    "class Database(ABC):\n",
    "    @abstractmethod    \n",
    "    def connect(self):\n",
    "        ...\n",
    "class MySQLDatabase(Database, ILoggable):\n",
    "    def __init__(self, host, user, password):\n",
    "        self.host = host\n",
    "        self.user = user\n",
    "        self.password = password\n",
    "        \n",
    "    def connect(self):\n",
    "        self.connection = f\"Connected to MySQL at {self.host} with user {self.user}\"\n",
    "        return self.connection\n",
    "    \n",
    "    def log(self, message):\n",
    "        print(f\"LOG: {message}\") "
   ]
  },
  {
   "cell_type": "code",
   "execution_count": 31,
   "metadata": {},
   "outputs": [
    {
     "name": "stdout",
     "output_type": "stream",
     "text": [
      "Connected to MySQL at localhost with user root\n",
      "LOG: Connection established successfully.\n"
     ]
    }
   ],
   "source": [
    "mysql_db = MySQLDatabase(\"localhost\", \"root\", \"password\")\n",
    "\n",
    "connection = mysql_db.connect()\n",
    "print(connection)\n",
    "\n",
    "mysql_db.log(\"Connection established successfully.\")"
   ]
  },
  {
   "cell_type": "markdown",
   "metadata": {},
   "source": [
    "<h3>Task 6<h3> <p>Interface Violation<p>"
   ]
  },
  {
   "cell_type": "code",
   "execution_count": 32,
   "metadata": {},
   "outputs": [
    {
     "ename": "TypeError",
     "evalue": "Can't instantiate abstract class ConsoleLogger with abstract method write",
     "output_type": "error",
     "traceback": [
      "\u001b[0;31m---------------------------------------------------------------------------\u001b[0m",
      "\u001b[0;31mTypeError\u001b[0m                                 Traceback (most recent call last)",
      "Cell \u001b[0;32mIn[32], line 9\u001b[0m\n\u001b[1;32m      6\u001b[0m \u001b[38;5;28;01mclass\u001b[39;00m\u001b[38;5;250m \u001b[39m\u001b[38;5;21;01mConsoleLogger\u001b[39;00m(IWritable):\n\u001b[1;32m      7\u001b[0m     \u001b[38;5;241m.\u001b[39m\u001b[38;5;241m.\u001b[39m\u001b[38;5;241m.\u001b[39m\n\u001b[0;32m----> 9\u001b[0m cl \u001b[38;5;241m=\u001b[39m \u001b[43mConsoleLogger\u001b[49m\u001b[43m(\u001b[49m\u001b[43m)\u001b[49m\n",
      "\u001b[0;31mTypeError\u001b[0m: Can't instantiate abstract class ConsoleLogger with abstract method write"
     ]
    }
   ],
   "source": [
    "class IWriter(ABC):\n",
    "    @abstractmethod\n",
    "    def write(self):\n",
    "        ...\n",
    "\n",
    "class ConsoleLogger(IWritable):\n",
    "    ...\n",
    "\n",
    "cl = ConsoleLogger()"
   ]
  },
  {
   "cell_type": "markdown",
   "metadata": {},
   "source": [
    "<h3>Task 7<h3> <p>Strategy Pattern with Interfaces<p>"
   ]
  },
  {
   "cell_type": "code",
   "execution_count": 33,
   "metadata": {},
   "outputs": [],
   "source": [
    "class ISortStrategy(ABC):\n",
    "    @abstractmethod\n",
    "    def sort(self, data):\n",
    "        ...\n",
    "\n",
    "class BubbleSort(ISortStrategy):\n",
    "    def sort(self, data):\n",
    "        for i in range(len(data)):\n",
    "            for j in range(i, len(data)):\n",
    "                if data[i] > data[j]:\n",
    "                    data[i], data[j] = data[j], data[i]\n",
    "\n",
    "        return data\n",
    "    \n",
    "class Quichsort(ISortStrategy):\n",
    "    def sort(self, data):\n",
    "        if len(data) <= 1:\n",
    "            return data\n",
    "        \n",
    "        pivot = data[-1]\n",
    "\n",
    "        right = [el for el in data[:-1] if el < pivot]\n",
    "        left  = [el for el in data[:-1] if el >= pivot]\n",
    "        \n",
    "        return self.sort(right) + [pivot] + self.sort(left)\n",
    "    "
   ]
  },
  {
   "cell_type": "code",
   "execution_count": 34,
   "metadata": {},
   "outputs": [
    {
     "name": "stdout",
     "output_type": "stream",
     "text": [
      "[1, 5, 7, 8, 9, 10]\n",
      "[1, 5, 7, 8, 9, 10]\n"
     ]
    }
   ],
   "source": [
    "arr = [10, 7, 8, 9, 1, 5]\n",
    "\n",
    "bs = BubbleSort()\n",
    "qs = Quichsort()\n",
    "\n",
    "print(bs.sort(arr))\n",
    "print(qs.sort(arr))"
   ]
  },
  {
   "cell_type": "markdown",
   "metadata": {},
   "source": [
    "<h3>Task 8<h3> <p>Real-World Interface Use<p>"
   ]
  },
  {
   "cell_type": "code",
   "execution_count": 37,
   "metadata": {},
   "outputs": [],
   "source": [
    "class IPaymentMethod(ABC):\n",
    "    @abstractmethod\n",
    "    def process(self, amount):\n",
    "        ...\n",
    "\n",
    "class CreditCard(IPaymentMethod):\n",
    "    def __init__(self, card_number: str, card_holder: str):\n",
    "        self.card_number = card_number\n",
    "        self.card_holder = card_holder\n",
    "\n",
    "    def process(self, amount):\n",
    "        print(f\"Paid ${amount} via Credit Card.\")\n",
    "        print(f\"Card Holder: {self.card_holder}\")\n",
    "        print(f\"Card Number: {self.card_number}\")\n",
    "\n",
    "class Cryptocurrency(IPaymentMethod):\n",
    "    def __init__(self, wallet_id):\n",
    "        self.wallet_id = wallet_id\n",
    "\n",
    "    def process(self, amount):\n",
    "        print(f\"Paid ${amount} via Cryptocurrency.\")\n",
    "        print(f\"Wallet ID: {self.wallet_id}\")"
   ]
  },
  {
   "cell_type": "code",
   "execution_count": 38,
   "metadata": {},
   "outputs": [
    {
     "name": "stdout",
     "output_type": "stream",
     "text": [
      "Paid $100.0 via Credit Card.\n",
      "Card Holder: John Doe\n",
      "Card Number: 1234-5678-9012-3456\n",
      "Paid $200.0 via Cryptocurrency.\n",
      "Wallet ID: 0x1234567890abcdef\n"
     ]
    }
   ],
   "source": [
    "credit_card = CreditCard(\"1234-5678-9012-3456\", \"John Doe\")\n",
    "credit_card.process(100.0)\n",
    "\n",
    "cryptocurrency = Cryptocurrency(\"0x1234567890abcdef\")\n",
    "cryptocurrency.process(200.0)"
   ]
  },
  {
   "cell_type": "markdown",
   "metadata": {},
   "source": [
    "<h3>Task 9<h3> <p>Type Checking for Interfaces<p>"
   ]
  },
  {
   "cell_type": "code",
   "execution_count": 40,
   "metadata": {},
   "outputs": [],
   "source": [
    "class IReadable(ABC):\n",
    "    @abstractmethod\n",
    "    def read(self):\n",
    "        ...\n",
    "\n",
    "class NetworkReader(IReadable):\n",
    "    def __init__(self, url):\n",
    "        self.url = url\n",
    "\n",
    "    def read(self):\n",
    "        print(f\"Reading data from {self.url}\")\n",
    "\n",
    "def read_data(source: IReadable):\n",
    "    source.read()\n"
   ]
  },
  {
   "cell_type": "code",
   "execution_count": 41,
   "metadata": {},
   "outputs": [
    {
     "name": "stdout",
     "output_type": "stream",
     "text": [
      "Reading data from http://example.com/data\n"
     ]
    }
   ],
   "source": [
    "network_reader = NetworkReader(\"http://example.com/data\")\n",
    "read_data(network_reader)"
   ]
  },
  {
   "cell_type": "markdown",
   "metadata": {},
   "source": [
    "<h3>Task 10<h3> <p>Multiple Interfaces in One Class\n",
    "<p>"
   ]
  },
  {
   "cell_type": "code",
   "execution_count": 45,
   "metadata": {},
   "outputs": [],
   "source": [
    "class IConnectable(ABC):\n",
    "    @abstractmethod\n",
    "    def connect(self):\n",
    "        ...\n",
    "\n",
    "class IUpdatable(ABC):\n",
    "    @abstractmethod\n",
    "    def update_firmware(self):\n",
    "        ...\n",
    "\n",
    "class SmartDevice(IConnectable, IUpdatable):\n",
    "    def connect(self):\n",
    "        print(\"Connected to the network.\")\n",
    "    \n",
    "    def update_firmware(self):\n",
    "        print(\"Firmware updated successfully.\")"
   ]
  },
  {
   "cell_type": "code",
   "execution_count": 47,
   "metadata": {},
   "outputs": [
    {
     "name": "stdout",
     "output_type": "stream",
     "text": [
      "Connected to the network.\n",
      "Firmware updated successfully.\n"
     ]
    }
   ],
   "source": [
    "device = SmartDevice()\n",
    "device.connect()\n",
    "device.update_firmware()"
   ]
  },
  {
   "cell_type": "code",
   "execution_count": null,
   "metadata": {},
   "outputs": [],
   "source": []
  }
 ],
 "metadata": {
  "kernelspec": {
   "display_name": "Python 3",
   "language": "python",
   "name": "python3"
  },
  "language_info": {
   "codemirror_mode": {
    "name": "ipython",
    "version": 3
   },
   "file_extension": ".py",
   "mimetype": "text/x-python",
   "name": "python",
   "nbconvert_exporter": "python",
   "pygments_lexer": "ipython3",
   "version": "3.10.12"
  }
 },
 "nbformat": 4,
 "nbformat_minor": 2
}
